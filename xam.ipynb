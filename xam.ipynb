{
 "cells": [
  {
   "cell_type": "markdown",
   "id": "4995ca77-c5fa-4f49-8cbe-be19c3bb233f",
   "metadata": {},
   "source": [
    "#                              Peer-graded Assignment"
   ]
  },
  {
   "cell_type": "markdown",
   "id": "005d1c14-2fe3-4c43-8d88-100812bd4b58",
   "metadata": {},
   "source": [
    "Introduction:- This is an assignment submitted for grading "
   ]
  },
  {
   "cell_type": "markdown",
   "id": "68693988-1b16-4587-9e0a-23ccea61ea54",
   "metadata": {},
   "source": [
    "Languages: \n",
    "1. Python \n",
    "1. Java \n",
    "1. Javascript \n",
    "1. c\n",
    "1. c++\n",
    "1. R \n",
    "1. sql \n",
    "1. matllab "
   ]
  },
  {
   "cell_type": "markdown",
   "id": "90295b5a-eb64-4c29-9d1a-8c9ce7cb8768",
   "metadata": {},
   "source": [
    "Libraries:\n",
    "1.Tensorflow\n",
    "1. pandas\n",
    "1. NumPy\n",
    "1. SciPy\n",
    "1. Pytorch\n",
    "1. Keras\n",
    "1. Matplotlib"
   ]
  },
  {
   "cell_type": "markdown",
   "id": "e7772045-1275-4bdb-8f5f-9deaf1b1d083",
   "metadata": {},
   "source": [
    "| TOOLS |\n",
    "| ----- |\n",
    "|Tensorflow|\n",
    "|Apache Spark|\n",
    "|BigML|\n",
    "|Hadoop|\n",
    "|Jupyter|\n",
    "|SAS|\n"
   ]
  },
  {
   "cell_type": "markdown",
   "id": "dab72807-2a09-43d5-9589-d1db6e61cff5",
   "metadata": {},
   "source": [
    "multiplication a*b  <br>\n",
    "subtraction a-b <br>\n",
    "addition a+b <br>\n",
    "division a/b <br>"
   ]
  },
  {
   "cell_type": "code",
   "execution_count": 10,
   "id": "c6446183-a34f-491d-8a22-f3c289268f44",
   "metadata": {},
   "outputs": [
    {
     "name": "stdout",
     "output_type": "stream",
     "text": [
      "product  55\n",
      "sum  16\n"
     ]
    }
   ],
   "source": [
    "a=5\n",
    "b=11\n",
    "mul= a*b\n",
    "add= a+b\n",
    "print(\"product \",mul)\n",
    "print(\"sum \",add)"
   ]
  },
  {
   "cell_type": "code",
   "execution_count": 12,
   "id": "59c5cfb1-cce9-47ba-961d-8758f80cd870",
   "metadata": {},
   "outputs": [
    {
     "name": "stdout",
     "output_type": "stream",
     "text": [
      "hour  2.0\n"
     ]
    }
   ],
   "source": [
    "minute= 120\n",
    "hour=minute/60\n",
    "print(\"hour \",hour)"
   ]
  },
  {
   "cell_type": "markdown",
   "id": "a6b11895-4803-4fb1-b7d8-38fcbabc17a9",
   "metadata": {},
   "source": [
    "Objective <br>\n",
    "Learn to use Jupyter notebook <br>\n",
    "To learn how to use Github <br>\n",
    "Learn Data science"
   ]
  },
  {
   "cell_type": "markdown",
   "id": "aa45579f-5384-4b58-8b10-c9aa8665ff9e",
   "metadata": {},
   "source": [
    "Author: Anfas"
   ]
  },
  {
   "cell_type": "code",
   "execution_count": null,
   "id": "fcee5d45-505b-4766-9442-12f557a0fa77",
   "metadata": {},
   "outputs": [],
   "source": []
  }
 ],
 "metadata": {
  "kernelspec": {
   "display_name": "Python",
   "language": "python",
   "name": "conda-env-python-py"
  },
  "language_info": {
   "codemirror_mode": {
    "name": "ipython",
    "version": 3
   },
   "file_extension": ".py",
   "mimetype": "text/x-python",
   "name": "python",
   "nbconvert_exporter": "python",
   "pygments_lexer": "ipython3",
   "version": "3.7.12"
  }
 },
 "nbformat": 4,
 "nbformat_minor": 5
}
